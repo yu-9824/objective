{
 "cells": [
  {
   "cell_type": "code",
   "execution_count": 1,
   "metadata": {},
   "outputs": [],
   "source": [
    "from sklearn.datasets import load_boston\n",
    "from sklearn.ensemble import RandomForestRegressor\n",
    "from sklearn.model_selection import train_test_split\n",
    "from sklearn.metrics import r2_score\n",
    "\n",
    "import pandas as pd\n",
    "import numpy as np\n",
    "\n",
    "import optuna\n",
    "from objective import Objective"
   ]
  },
  {
   "cell_type": "markdown",
   "metadata": {},
   "source": [
    "#### 再現のための乱数値指定"
   ]
  },
  {
   "cell_type": "code",
   "execution_count": 2,
   "metadata": {},
   "outputs": [],
   "source": [
    "SEED = 334"
   ]
  },
  {
   "cell_type": "markdown",
   "metadata": {},
   "source": [
    "#### 学習データの読み込み"
   ]
  },
  {
   "cell_type": "code",
   "execution_count": 3,
   "metadata": {},
   "outputs": [],
   "source": [
    "boston = load_boston()\n",
    "df_X = pd.DataFrame(boston.data, columns = boston.feature_names, dtype = float)\n",
    "df_y = pd.Series(boston.target, name = 'PRICE', dtype = float)"
   ]
  },
  {
   "cell_type": "markdown",
   "metadata": {},
   "source": [
    "#### データの分割"
   ]
  },
  {
   "cell_type": "code",
   "execution_count": 4,
   "metadata": {},
   "outputs": [],
   "source": [
    "X_train, X_test, y_train, y_test = train_test_split(df_X, df_y, test_size = 0.2, random_state = SEED)"
   ]
  },
  {
   "cell_type": "markdown",
   "metadata": {},
   "source": [
    "#### インスタンス化"
   ]
  },
  {
   "cell_type": "code",
   "execution_count": 5,
   "metadata": {},
   "outputs": [],
   "source": [
    "objective = Objective(RandomForestRegressor, X_train, y_train, random_state = SEED, cv = 5)"
   ]
  },
  {
   "cell_type": "markdown",
   "metadata": {},
   "source": [
    "#### 最適化"
   ]
  },
  {
   "cell_type": "code",
   "execution_count": 6,
   "metadata": {},
   "outputs": [
    {
     "name": "stderr",
     "output_type": "stream",
     "text": [
      "[I 2020-07-23 18:12:18,191] Finished trial#0 with value: -0.844758935587772 with parameters: {'min_samples_split': 4, 'max_depth': 49, 'n_estimators': 286}. Best is trial#0 with value: -0.844758935587772.\n",
      "[I 2020-07-23 18:12:20,609] Finished trial#1 with value: -0.8449845042815637 with parameters: {'min_samples_split': 3, 'max_depth': 222, 'n_estimators': 326}. Best is trial#1 with value: -0.8449845042815637.\n",
      "[I 2020-07-23 18:12:21,590] Finished trial#2 with value: -0.8384528258811926 with parameters: {'min_samples_split': 9, 'max_depth': 122, 'n_estimators': 142}. Best is trial#1 with value: -0.8449845042815637.\n",
      "[I 2020-07-23 18:12:23,096] Finished trial#3 with value: -0.8445089763436642 with parameters: {'min_samples_split': 4, 'max_depth': 211, 'n_estimators': 205}. Best is trial#1 with value: -0.8449845042815637.\n",
      "[I 2020-07-23 18:12:24,414] Finished trial#4 with value: -0.8310703330579567 with parameters: {'min_samples_split': 16, 'max_depth': 324, 'n_estimators': 211}. Best is trial#1 with value: -0.8449845042815637.\n",
      "[I 2020-07-23 18:12:27,809] Finished trial#5 with value: -0.8448926493341613 with parameters: {'min_samples_split': 2, 'max_depth': 415, 'n_estimators': 436}. Best is trial#1 with value: -0.8449845042815637.\n",
      "[I 2020-07-23 18:12:30,444] Finished trial#6 with value: -0.8452489060016806 with parameters: {'min_samples_split': 3, 'max_depth': 126, 'n_estimators': 351}. Best is trial#6 with value: -0.8452489060016806.\n",
      "[I 2020-07-23 18:12:31,362] Finished trial#7 with value: -0.8294733194260171 with parameters: {'min_samples_split': 16, 'max_depth': 79, 'n_estimators': 140}. Best is trial#6 with value: -0.8452489060016806.\n",
      "[I 2020-07-23 18:12:33,074] Finished trial#8 with value: -0.8386968765429123 with parameters: {'min_samples_split': 11, 'max_depth': 368, 'n_estimators': 253}. Best is trial#6 with value: -0.8452489060016806.\n",
      "[I 2020-07-23 18:12:35,567] Finished trial#9 with value: -0.837998143930894 with parameters: {'min_samples_split': 13, 'max_depth': 430, 'n_estimators': 374}. Best is trial#6 with value: -0.8452489060016806.\n"
     ]
    }
   ],
   "source": [
    "study = optuna.create_study()\n",
    "study.optimize(objective, n_trials=10)"
   ]
  },
  {
   "cell_type": "markdown",
   "metadata": {},
   "source": [
    "#### 最適モデルを得る"
   ]
  },
  {
   "cell_type": "code",
   "execution_count": 7,
   "metadata": {},
   "outputs": [],
   "source": [
    "best_clf = objective.clf(**study.best_params, **objective.fixed_params)"
   ]
  },
  {
   "cell_type": "markdown",
   "metadata": {},
   "source": [
    "#### スコアで性能評価"
   ]
  },
  {
   "cell_type": "code",
   "execution_count": 8,
   "metadata": {},
   "outputs": [
    {
     "name": "stdout",
     "output_type": "stream",
     "text": [
      "0.8670486156131927\n"
     ]
    }
   ],
   "source": [
    "best_clf.fit(X_train, y_train)\n",
    "y_pred_on_test = best_clf.predict(X_test)\n",
    "print(r2_score(y_test, y_pred_on_test))"
   ]
  }
 ],
 "metadata": {
  "kernelspec": {
   "display_name": "Python 3",
   "language": "python",
   "name": "python3"
  },
  "language_info": {
   "codemirror_mode": {
    "name": "ipython",
    "version": 3
   },
   "file_extension": ".py",
   "mimetype": "text/x-python",
   "name": "python",
   "nbconvert_exporter": "python",
   "pygments_lexer": "ipython3",
   "version": "3.7.3"
  }
 },
 "nbformat": 4,
 "nbformat_minor": 4
}
