{
 "cells": [
  {
   "cell_type": "code",
   "execution_count": 1,
   "metadata": {},
   "outputs": [],
   "source": [
    "from sklearn.datasets import load_boston\n",
    "from sklearn.ensemble import RandomForestRegressor\n",
    "from sklearn.model_selection import train_test_split\n",
    "from sklearn.metrics import r2_score\n",
    "\n",
    "import pandas as pd\n",
    "import numpy as np\n",
    "\n",
    "import optuna\n",
    "from objective import Objective"
   ]
  },
  {
   "cell_type": "markdown",
   "metadata": {},
   "source": [
    "#### 再現のための乱数値指定"
   ]
  },
  {
   "cell_type": "code",
   "execution_count": 2,
   "metadata": {},
   "outputs": [],
   "source": [
    "SEED = 334"
   ]
  },
  {
   "cell_type": "markdown",
   "metadata": {},
   "source": [
    "#### 学習データの読み込み"
   ]
  },
  {
   "cell_type": "code",
   "execution_count": 3,
   "metadata": {},
   "outputs": [],
   "source": [
    "boston = load_boston()\n",
    "df_X = pd.DataFrame(boston.data, columns = boston.feature_names, dtype = float)\n",
    "df_y = pd.Series(boston.target, name = 'PRICE', dtype = float)"
   ]
  },
  {
   "cell_type": "markdown",
   "metadata": {},
   "source": [
    "#### データの分割"
   ]
  },
  {
   "cell_type": "code",
   "execution_count": 4,
   "metadata": {},
   "outputs": [],
   "source": [
    "X_train, X_test, y_train, y_test = train_test_split(df_X, df_y, test_size = 0.2, random_state = SEED)"
   ]
  },
  {
   "cell_type": "markdown",
   "metadata": {},
   "source": [
    "#### インスタンス化"
   ]
  },
  {
   "cell_type": "code",
   "execution_count": 5,
   "metadata": {},
   "outputs": [],
   "source": [
    "objective = Objective(RandomForestRegressor, X_train, y_train, random_state = SEED, cv = 5)"
   ]
  },
  {
   "cell_type": "markdown",
   "metadata": {},
   "source": [
    "#### 最適化"
   ]
  },
  {
   "cell_type": "code",
   "execution_count": 6,
   "metadata": {},
   "outputs": [
    {
     "name": "stderr",
     "output_type": "stream",
     "text": [
      "[I 2020-07-23 18:18:30,074] Finished trial#0 with value: -0.8350835563401929 with parameters: {'min_samples_split': 14, 'max_depth': 457, 'n_estimators': 426}. Best is trial#0 with value: -0.8350835563401929.\n",
      "[I 2020-07-23 18:18:31,749] Finished trial#1 with value: -0.8385140172913257 with parameters: {'min_samples_split': 11, 'max_depth': 349, 'n_estimators': 233}. Best is trial#1 with value: -0.8385140172913257.\n",
      "[I 2020-07-23 18:18:32,031] Finished trial#2 with value: -0.8282074447559358 with parameters: {'min_samples_split': 16, 'max_depth': 32, 'n_estimators': 34}. Best is trial#1 with value: -0.8385140172913257.\n",
      "[I 2020-07-23 18:18:35,147] Finished trial#3 with value: -0.8452311544730872 with parameters: {'min_samples_split': 4, 'max_depth': 68, 'n_estimators': 396}. Best is trial#3 with value: -0.8452311544730872.\n",
      "[I 2020-07-23 18:18:37,748] Finished trial#4 with value: -0.8436456047752265 with parameters: {'min_samples_split': 6, 'max_depth': 370, 'n_estimators': 345}. Best is trial#3 with value: -0.8452311544730872.\n",
      "[I 2020-07-23 18:18:38,294] Finished trial#5 with value: -0.8309848359070153 with parameters: {'min_samples_split': 15, 'max_depth': 297, 'n_estimators': 73}. Best is trial#3 with value: -0.8452311544730872.\n",
      "[I 2020-07-23 18:18:40,543] Finished trial#6 with value: -0.8310943836096175 with parameters: {'min_samples_split': 16, 'max_depth': 407, 'n_estimators': 332}. Best is trial#3 with value: -0.8452311544730872.\n",
      "[I 2020-07-23 18:18:41,641] Finished trial#7 with value: -0.8411670875098942 with parameters: {'min_samples_split': 5, 'max_depth': 84, 'n_estimators': 136}. Best is trial#3 with value: -0.8452311544730872.\n",
      "[I 2020-07-23 18:18:44,831] Finished trial#8 with value: -0.8418169811692511 with parameters: {'min_samples_split': 8, 'max_depth': 413, 'n_estimators': 436}. Best is trial#3 with value: -0.8452311544730872.\n",
      "[I 2020-07-23 18:18:48,127] Finished trial#9 with value: -0.8392030996965648 with parameters: {'min_samples_split': 11, 'max_depth': 385, 'n_estimators': 467}. Best is trial#3 with value: -0.8452311544730872.\n"
     ]
    }
   ],
   "source": [
    "study = optuna.create_study()\n",
    "study.optimize(objective, n_trials=10)"
   ]
  },
  {
   "cell_type": "markdown",
   "metadata": {},
   "source": [
    "#### 最適モデルを得る"
   ]
  },
  {
   "cell_type": "code",
   "execution_count": 7,
   "metadata": {},
   "outputs": [],
   "source": [
    "best_clf = objective.clf(**study.best_params, **objective.fixed_params)"
   ]
  },
  {
   "cell_type": "markdown",
   "metadata": {},
   "source": [
    "#### スコアで性能評価"
   ]
  },
  {
   "cell_type": "code",
   "execution_count": 8,
   "metadata": {},
   "outputs": [
    {
     "name": "stdout",
     "output_type": "stream",
     "text": [
      "0.8634940676676572\n"
     ]
    }
   ],
   "source": [
    "best_clf.fit(X_train, y_train)\n",
    "y_pred_on_test = best_clf.predict(X_test)\n",
    "print(r2_score(y_test, y_pred_on_test))"
   ]
  }
 ],
 "metadata": {
  "kernelspec": {
   "display_name": "Python 3",
   "language": "python",
   "name": "python3"
  },
  "language_info": {
   "codemirror_mode": {
    "name": "ipython",
    "version": 3
   },
   "file_extension": ".py",
   "mimetype": "text/x-python",
   "name": "python",
   "nbconvert_exporter": "python",
   "pygments_lexer": "ipython3",
   "version": "3.7.3"
  }
 },
 "nbformat": 4,
 "nbformat_minor": 4
}
