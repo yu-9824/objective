{
 "cells": [
  {
   "cell_type": "code",
   "execution_count": 3,
   "metadata": {},
   "outputs": [],
   "source": [
    "from sklearn.datasets import load_boston\n",
    "from sklearn.ensemble import RandomForestRegressor\n",
    "from sklearn.model_selection import train_test_split\n",
    "from sklearn.metrics import r2_score\n",
    "\n",
    "import pandas as pd\n",
    "import numpy as np\n",
    "\n",
    "import optuna\n",
    "from src import objective\n",
    "# import sys\n",
    "# sys.path.append('../')\n",
    "# from src.objective import Objective"
   ]
  },
  {
   "cell_type": "markdown",
   "metadata": {},
   "source": [
    "#### 再現のための乱数値指定"
   ]
  },
  {
   "cell_type": "code",
   "execution_count": 4,
   "metadata": {},
   "outputs": [],
   "source": [
    "SEED = 334"
   ]
  },
  {
   "cell_type": "markdown",
   "metadata": {},
   "source": [
    "#### 学習データの読み込み"
   ]
  },
  {
   "cell_type": "code",
   "execution_count": 5,
   "metadata": {},
   "outputs": [],
   "source": [
    "boston = load_boston()\n",
    "df_X = pd.DataFrame(boston.data, columns = boston.feature_names, dtype = float)\n",
    "df_y = pd.Series(boston.target, name = 'PRICE', dtype = float)"
   ]
  },
  {
   "cell_type": "markdown",
   "metadata": {},
   "source": [
    "#### データの分割"
   ]
  },
  {
   "cell_type": "code",
   "execution_count": 6,
   "metadata": {},
   "outputs": [],
   "source": [
    "X_train, X_test, y_train, y_test = train_test_split(df_X, df_y, test_size = 0.2, random_state = SEED)"
   ]
  },
  {
   "cell_type": "markdown",
   "metadata": {},
   "source": [
    "#### インスタンス化"
   ]
  },
  {
   "cell_type": "code",
   "execution_count": 8,
   "metadata": {},
   "outputs": [],
   "source": [
    "objective = objective.Objective(RandomForestRegressor, X_train, y_train, random_state = SEED, cv = 5)"
   ]
  },
  {
   "cell_type": "markdown",
   "metadata": {},
   "source": [
    "#### 最適化"
   ]
  },
  {
   "cell_type": "code",
   "execution_count": 9,
   "metadata": {},
   "outputs": [
    {
     "name": "stderr",
     "output_type": "stream",
     "text": [
      "[I 2020-07-24 21:17:26,938] Finished trial#0 with value: -0.8314347751255221 with parameters: {'min_samples_split': 15, 'max_depth': 97, 'n_estimators': 155}. Best is trial#0 with value: -0.8314347751255221.\n",
      "[I 2020-07-24 21:17:30,793] Finished trial#1 with value: -0.8435614074574971 with parameters: {'min_samples_split': 5, 'max_depth': 117, 'n_estimators': 472}. Best is trial#1 with value: -0.8435614074574971.\n",
      "[I 2020-07-24 21:17:33,316] Finished trial#2 with value: -0.8405350373971177 with parameters: {'min_samples_split': 10, 'max_depth': 391, 'n_estimators': 360}. Best is trial#1 with value: -0.8435614074574971.\n",
      "[I 2020-07-24 21:17:33,789] Finished trial#3 with value: -0.8320037703866419 with parameters: {'min_samples_split': 14, 'max_depth': 230, 'n_estimators': 63}. Best is trial#1 with value: -0.8435614074574971.\n",
      "[I 2020-07-24 21:17:34,539] Finished trial#4 with value: -0.8385560667365312 with parameters: {'min_samples_split': 9, 'max_depth': 118, 'n_estimators': 103}. Best is trial#1 with value: -0.8435614074574971.\n",
      "[I 2020-07-24 21:17:37,311] Finished trial#5 with value: -0.8351436772003578 with parameters: {'min_samples_split': 14, 'max_depth': 95, 'n_estimators': 424}. Best is trial#1 with value: -0.8435614074574971.\n",
      "[I 2020-07-24 21:17:40,265] Finished trial#6 with value: -0.8456602599055802 with parameters: {'min_samples_split': 3, 'max_depth': 31, 'n_estimators': 358}. Best is trial#6 with value: -0.8456602599055802.\n",
      "[I 2020-07-24 21:17:43,712] Finished trial#7 with value: -0.8432348765938616 with parameters: {'min_samples_split': 6, 'max_depth': 312, 'n_estimators': 459}. Best is trial#6 with value: -0.8456602599055802.\n",
      "[I 2020-07-24 21:17:46,836] Finished trial#8 with value: -0.8405205536218879 with parameters: {'min_samples_split': 9, 'max_depth': 460, 'n_estimators': 443}. Best is trial#6 with value: -0.8456602599055802.\n",
      "[I 2020-07-24 21:17:49,274] Finished trial#9 with value: -0.8434106622887979 with parameters: {'min_samples_split': 6, 'max_depth': 362, 'n_estimators': 326}. Best is trial#6 with value: -0.8456602599055802.\n"
     ]
    }
   ],
   "source": [
    "study = optuna.create_study()\n",
    "study.optimize(objective, n_trials=10)"
   ]
  },
  {
   "cell_type": "markdown",
   "metadata": {},
   "source": [
    "#### 最適モデルを得る"
   ]
  },
  {
   "cell_type": "code",
   "execution_count": 7,
   "metadata": {},
   "outputs": [],
   "source": [
    "best_clf = objective.clf(**study.best_params, **objective.fixed_params)"
   ]
  },
  {
   "cell_type": "markdown",
   "metadata": {},
   "source": [
    "#### スコアで性能評価"
   ]
  },
  {
   "cell_type": "code",
   "execution_count": 8,
   "metadata": {},
   "outputs": [
    {
     "name": "stdout",
     "output_type": "stream",
     "text": [
      "0.8658682623468608\n"
     ]
    }
   ],
   "source": [
    "best_clf.fit(X_train, y_train)\n",
    "y_pred_on_test = best_clf.predict(X_test)\n",
    "print(r2_score(y_test, y_pred_on_test))"
   ]
  }
 ],
 "metadata": {
  "kernelspec": {
   "display_name": "Python 3",
   "language": "python",
   "name": "python3"
  },
  "language_info": {
   "codemirror_mode": {
    "name": "ipython",
    "version": 3
   },
   "file_extension": ".py",
   "mimetype": "text/x-python",
   "name": "python",
   "nbconvert_exporter": "python",
   "pygments_lexer": "ipython3",
   "version": "3.7.8"
  }
 },
 "nbformat": 4,
 "nbformat_minor": 4
}
