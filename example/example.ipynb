{
 "cells": [
  {
   "cell_type": "code",
   "execution_count": 1,
   "metadata": {},
   "outputs": [],
   "source": [
    "from sklearn.datasets import load_boston\n",
    "from sklearn.ensemble import RandomForestRegressor\n",
    "from sklearn.model_selection import train_test_split\n",
    "from sklearn.metrics import r2_score\n",
    "\n",
    "import pandas as pd\n",
    "import numpy as np\n",
    "\n",
    "import optuna\n",
    "# from objective import Objective\n",
    "import sys\n",
    "sys.path.append('../')\n",
    "from src.objective import Objective"
   ]
  },
  {
   "cell_type": "markdown",
   "metadata": {},
   "source": [
    "#### 再現のための乱数値指定"
   ]
  },
  {
   "cell_type": "code",
   "execution_count": 2,
   "metadata": {},
   "outputs": [],
   "source": [
    "SEED = 334"
   ]
  },
  {
   "cell_type": "markdown",
   "metadata": {},
   "source": [
    "#### 学習データの読み込み"
   ]
  },
  {
   "cell_type": "code",
   "execution_count": 3,
   "metadata": {},
   "outputs": [],
   "source": [
    "boston = load_boston()\n",
    "df_X = pd.DataFrame(boston.data, columns = boston.feature_names, dtype = float)\n",
    "df_y = pd.Series(boston.target, name = 'PRICE', dtype = float)"
   ]
  },
  {
   "cell_type": "markdown",
   "metadata": {},
   "source": [
    "#### データの分割"
   ]
  },
  {
   "cell_type": "code",
   "execution_count": 4,
   "metadata": {},
   "outputs": [],
   "source": [
    "X_train, X_test, y_train, y_test = train_test_split(df_X, df_y, test_size = 0.2, random_state = SEED)"
   ]
  },
  {
   "cell_type": "markdown",
   "metadata": {},
   "source": [
    "#### インスタンス化"
   ]
  },
  {
   "cell_type": "code",
   "execution_count": 5,
   "metadata": {},
   "outputs": [],
   "source": [
    "objective = Objective(RandomForestRegressor, X_train, y_train, random_state = SEED, cv = 5)"
   ]
  },
  {
   "cell_type": "markdown",
   "metadata": {},
   "source": [
    "#### 最適化"
   ]
  },
  {
   "cell_type": "code",
   "execution_count": 6,
   "metadata": {},
   "outputs": [
    {
     "name": "stderr",
     "output_type": "stream",
     "text": [
      "[I 2020-07-23 19:40:34,883] Finished trial#0 with value: -0.8449988821931251 with parameters: {'min_samples_split': 3, 'max_depth': 51, 'n_estimators': 303}. Best is trial#0 with value: -0.8449988821931251.\n",
      "[I 2020-07-23 19:40:37,438] Finished trial#1 with value: -0.8420195466859287 with parameters: {'min_samples_split': 8, 'max_depth': 380, 'n_estimators': 335}. Best is trial#0 with value: -0.8449988821931251.\n",
      "[I 2020-07-23 19:40:40,906] Finished trial#2 with value: -0.8450194523671344 with parameters: {'min_samples_split': 4, 'max_depth': 186, 'n_estimators': 434}. Best is trial#2 with value: -0.8450194523671344.\n",
      "[I 2020-07-23 19:40:41,221] Finished trial#3 with value: -0.8400237369319165 with parameters: {'min_samples_split': 5, 'max_depth': 472, 'n_estimators': 33}. Best is trial#2 with value: -0.8450194523671344.\n",
      "[I 2020-07-23 19:40:44,287] Finished trial#4 with value: -0.8308163277545966 with parameters: {'min_samples_split': 16, 'max_depth': 411, 'n_estimators': 455}. Best is trial#2 with value: -0.8450194523671344.\n",
      "[I 2020-07-23 19:40:45,159] Finished trial#5 with value: -0.8393035048307482 with parameters: {'min_samples_split': 7, 'max_depth': 226, 'n_estimators': 107}. Best is trial#2 with value: -0.8450194523671344.\n",
      "[I 2020-07-23 19:40:47,077] Finished trial#6 with value: -0.8447817884300586 with parameters: {'min_samples_split': 4, 'max_depth': 139, 'n_estimators': 238}. Best is trial#2 with value: -0.8450194523671344.\n",
      "[I 2020-07-23 19:40:47,374] Finished trial#7 with value: -0.8376838820364231 with parameters: {'min_samples_split': 10, 'max_depth': 471, 'n_estimators': 33}. Best is trial#2 with value: -0.8450194523671344.\n",
      "[I 2020-07-23 19:40:51,154] Finished trial#8 with value: -0.8434942378283752 with parameters: {'min_samples_split': 5, 'max_depth': 89, 'n_estimators': 487}. Best is trial#2 with value: -0.8450194523671344.\n",
      "[I 2020-07-23 19:40:52,206] Finished trial#9 with value: -0.8317705736382838 with parameters: {'min_samples_split': 15, 'max_depth': 207, 'n_estimators': 149}. Best is trial#2 with value: -0.8450194523671344.\n"
     ]
    }
   ],
   "source": [
    "study = optuna.create_study()\n",
    "study.optimize(objective, n_trials=10)"
   ]
  },
  {
   "cell_type": "markdown",
   "metadata": {},
   "source": [
    "#### 最適モデルを得る"
   ]
  },
  {
   "cell_type": "code",
   "execution_count": 7,
   "metadata": {},
   "outputs": [],
   "source": [
    "best_clf = objective.clf(**study.best_params, **objective.fixed_params)"
   ]
  },
  {
   "cell_type": "markdown",
   "metadata": {},
   "source": [
    "#### スコアで性能評価"
   ]
  },
  {
   "cell_type": "code",
   "execution_count": 8,
   "metadata": {},
   "outputs": [
    {
     "name": "stdout",
     "output_type": "stream",
     "text": [
      "0.8658682623468608\n"
     ]
    }
   ],
   "source": [
    "best_clf.fit(X_train, y_train)\n",
    "y_pred_on_test = best_clf.predict(X_test)\n",
    "print(r2_score(y_test, y_pred_on_test))"
   ]
  }
 ],
 "metadata": {
  "kernelspec": {
   "display_name": "Python 3",
   "language": "python",
   "name": "python3"
  },
  "language_info": {
   "codemirror_mode": {
    "name": "ipython",
    "version": 3
   },
   "file_extension": ".py",
   "mimetype": "text/x-python",
   "name": "python",
   "nbconvert_exporter": "python",
   "pygments_lexer": "ipython3",
   "version": "3.7.3"
  }
 },
 "nbformat": 4,
 "nbformat_minor": 4
}
