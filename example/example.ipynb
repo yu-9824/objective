{
 "cells": [
  {
   "cell_type": "code",
   "execution_count": 1,
   "metadata": {},
   "outputs": [],
   "source": [
    "from sklearn.datasets import load_boston\n",
    "from sklearn.ensemble import RandomForestRegressor\n",
    "from sklearn.model_selection import train_test_split\n",
    "from sklearn.metrics import r2_score\n",
    "\n",
    "import pandas as pd\n",
    "import numpy as np\n",
    "\n",
    "import optuna\n",
    "from objective import Objective"
   ]
  },
  {
   "cell_type": "markdown",
   "metadata": {},
   "source": [
    "#### 再現のための乱数値指定"
   ]
  },
  {
   "cell_type": "code",
   "execution_count": 2,
   "metadata": {},
   "outputs": [],
   "source": [
    "SEED = 334"
   ]
  },
  {
   "cell_type": "markdown",
   "metadata": {},
   "source": [
    "#### 学習データの読み込み"
   ]
  },
  {
   "cell_type": "code",
   "execution_count": 3,
   "metadata": {},
   "outputs": [],
   "source": [
    "boston = load_boston()\n",
    "df_X = pd.DataFrame(boston.data, columns = boston.feature_names, dtype = float)\n",
    "df_y = pd.Series(boston.target, name = 'PRICE', dtype = float)"
   ]
  },
  {
   "cell_type": "markdown",
   "metadata": {},
   "source": [
    "#### データの分割"
   ]
  },
  {
   "cell_type": "code",
   "execution_count": 4,
   "metadata": {},
   "outputs": [],
   "source": [
    "X_train, X_test, y_train, y_test = train_test_split(df_X, df_y, test_size = 0.2, random_state = SEED)"
   ]
  },
  {
   "cell_type": "markdown",
   "metadata": {},
   "source": [
    "#### インスタンス化"
   ]
  },
  {
   "cell_type": "code",
   "execution_count": 5,
   "metadata": {},
   "outputs": [],
   "source": [
    "objective = Objective(RandomForestRegressor, X_train, y_train, random_state = SEED, cv = 5)"
   ]
  },
  {
   "cell_type": "markdown",
   "metadata": {},
   "source": [
    "#### 最適化"
   ]
  },
  {
   "cell_type": "code",
   "execution_count": 6,
   "metadata": {},
   "outputs": [
    {
     "name": "stderr",
     "output_type": "stream",
     "text": [
      "[I 2020-07-24 21:33:43,270] Finished trial#0 with value: -0.829707047842675 with parameters: {'min_samples_split': 16, 'max_depth': 471, 'n_estimators': 125}. Best is trial#0 with value: -0.829707047842675.\n",
      "[I 2020-07-24 21:33:44,682] Finished trial#1 with value: -0.838345976960376 with parameters: {'min_samples_split': 11, 'max_depth': 14, 'n_estimators': 190}. Best is trial#1 with value: -0.838345976960376.\n",
      "[I 2020-07-24 21:33:45,922] Finished trial#2 with value: -0.8385448018756453 with parameters: {'min_samples_split': 10, 'max_depth': 34, 'n_estimators': 155}. Best is trial#2 with value: -0.8385448018756453.\n",
      "[I 2020-07-24 21:33:47,962] Finished trial#3 with value: -0.8409401817318157 with parameters: {'min_samples_split': 7, 'max_depth': 424, 'n_estimators': 268}. Best is trial#3 with value: -0.8409401817318157.\n",
      "[I 2020-07-24 21:33:50,931] Finished trial#4 with value: -0.841994461367116 with parameters: {'min_samples_split': 7, 'max_depth': 408, 'n_estimators': 412}. Best is trial#4 with value: -0.841994461367116.\n",
      "[I 2020-07-24 21:33:52,738] Finished trial#5 with value: -0.8407790625772165 with parameters: {'min_samples_split': 7, 'max_depth': 27, 'n_estimators': 226}. Best is trial#4 with value: -0.841994461367116.\n",
      "[I 2020-07-24 21:33:53,200] Finished trial#6 with value: -0.8372243894915465 with parameters: {'min_samples_split': 9, 'max_depth': 397, 'n_estimators': 54}. Best is trial#4 with value: -0.841994461367116.\n",
      "[I 2020-07-24 21:33:54,541] Finished trial#7 with value: -0.8448527818039511 with parameters: {'min_samples_split': 2, 'max_depth': 424, 'n_estimators': 165}. Best is trial#7 with value: -0.8448527818039511.\n",
      "[I 2020-07-24 21:33:58,030] Finished trial#8 with value: -0.8458151250675513 with parameters: {'min_samples_split': 2, 'max_depth': 334, 'n_estimators': 417}. Best is trial#8 with value: -0.8458151250675513.\n",
      "[I 2020-07-24 21:33:58,419] Finished trial#9 with value: -0.8411704477967448 with parameters: {'min_samples_split': 3, 'max_depth': 105, 'n_estimators': 44}. Best is trial#8 with value: -0.8458151250675513.\n"
     ]
    }
   ],
   "source": [
    "study = optuna.create_study(direction = 'maximize')\n",
    "study.optimize(objective, n_trials=10)"
   ]
  },
  {
   "cell_type": "markdown",
   "metadata": {},
   "source": [
    "#### 最適モデルを得る"
   ]
  },
  {
   "cell_type": "code",
   "execution_count": 7,
   "metadata": {},
   "outputs": [],
   "source": [
    "best_clf = objective.clf(**study.best_params, **objective.fixed_params)"
   ]
  },
  {
   "cell_type": "markdown",
   "metadata": {},
   "source": [
    "#### スコアで性能評価"
   ]
  },
  {
   "cell_type": "code",
   "execution_count": 8,
   "metadata": {},
   "outputs": [
    {
     "name": "stdout",
     "output_type": "stream",
     "text": [
      "0.8654697554552495\n"
     ]
    }
   ],
   "source": [
    "best_clf.fit(X_train, y_train)\n",
    "y_pred_on_test = best_clf.predict(X_test)\n",
    "print(r2_score(y_test, y_pred_on_test))"
   ]
  }
 ],
 "metadata": {
  "kernelspec": {
   "display_name": "Python 3",
   "language": "python",
   "name": "python3"
  },
  "language_info": {
   "codemirror_mode": {
    "name": "ipython",
    "version": 3
   },
   "file_extension": ".py",
   "mimetype": "text/x-python",
   "name": "python",
   "nbconvert_exporter": "python",
   "pygments_lexer": "ipython3",
   "version": "3.7.3"
  }
 },
 "nbformat": 4,
 "nbformat_minor": 4
}
