{
 "cells": [
  {
   "cell_type": "code",
   "execution_count": 1,
   "metadata": {},
   "outputs": [],
   "source": [
    "from sklearn.datasets import load_boston\n",
    "from sklearn.ensemble import RandomForestRegressor\n",
    "from sklearn.model_selection import train_test_split\n",
    "from sklearn.metrics import r2_score\n",
    "\n",
    "import pandas as pd\n",
    "import numpy as np\n",
    "\n",
    "import optuna\n",
    "from objective import Objective"
   ]
  },
  {
   "cell_type": "markdown",
   "metadata": {},
   "source": [
    "#### 再現のための乱数値指定"
   ]
  },
  {
   "cell_type": "code",
   "execution_count": 2,
   "metadata": {},
   "outputs": [],
   "source": [
    "SEED = 334"
   ]
  },
  {
   "cell_type": "markdown",
   "metadata": {},
   "source": [
    "#### 学習データの読み込み"
   ]
  },
  {
   "cell_type": "code",
   "execution_count": 3,
   "metadata": {},
   "outputs": [],
   "source": [
    "boston = load_boston()\n",
    "df_X = pd.DataFrame(boston.data, columns = boston.feature_names, dtype = float)\n",
    "df_y = pd.Series(boston.target, name = 'PRICE', dtype = float)"
   ]
  },
  {
   "cell_type": "markdown",
   "metadata": {},
   "source": [
    "#### データの分割"
   ]
  },
  {
   "cell_type": "code",
   "execution_count": 4,
   "metadata": {},
   "outputs": [],
   "source": [
    "X_train, X_test, y_train, y_test = train_test_split(df_X, df_y, test_size = 0.2, random_state = SEED)"
   ]
  },
  {
   "cell_type": "markdown",
   "metadata": {},
   "source": [
    "#### インスタンス化"
   ]
  },
  {
   "cell_type": "code",
   "execution_count": 5,
   "metadata": {},
   "outputs": [],
   "source": [
    "objective = Objective(RandomForestRegressor, X_train, y_train, random_state = SEED, cv = 5)"
   ]
  },
  {
   "cell_type": "markdown",
   "metadata": {},
   "source": [
    "#### 最適化"
   ]
  },
  {
   "cell_type": "code",
   "execution_count": 6,
   "metadata": {},
   "outputs": [
    {
     "name": "stderr",
     "output_type": "stream",
     "text": [
      "[I 2020-07-28 11:47:50,718] Finished trial#0 with value: 0.8453904683037697 with parameters: {'min_samples_split': 2, 'max_depth': 496, 'n_estimators': 191}. Best is trial#0 with value: 0.8453904683037697.\n",
      "[I 2020-07-28 11:47:52,065] Finished trial#1 with value: 0.8414318123870709 with parameters: {'min_samples_split': 5, 'max_depth': 248, 'n_estimators': 145}. Best is trial#0 with value: 0.8453904683037697.\n",
      "[I 2020-07-28 11:47:56,383] Finished trial#2 with value: 0.8419398754491342 with parameters: {'min_samples_split': 8, 'max_depth': 371, 'n_estimators': 499}. Best is trial#0 with value: 0.8453904683037697.\n",
      "[I 2020-07-28 11:48:00,607] Finished trial#3 with value: 0.844834986501672 with parameters: {'min_samples_split': 4, 'max_depth': 188, 'n_estimators': 446}. Best is trial#0 with value: 0.8453904683037697.\n",
      "[I 2020-07-28 11:48:01,398] Finished trial#4 with value: 0.8374219516359276 with parameters: {'min_samples_split': 12, 'max_depth': 53, 'n_estimators': 90}. Best is trial#0 with value: 0.8453904683037697.\n",
      "[I 2020-07-28 11:48:04,741] Finished trial#5 with value: 0.8377827008141125 with parameters: {'min_samples_split': 13, 'max_depth': 174, 'n_estimators': 412}. Best is trial#0 with value: 0.8453904683037697.\n",
      "[I 2020-07-28 11:48:07,073] Finished trial#6 with value: 0.8346021236872898 with parameters: {'min_samples_split': 14, 'max_depth': 310, 'n_estimators': 289}. Best is trial#0 with value: 0.8453904683037697.\n",
      "[I 2020-07-28 11:48:10,643] Finished trial#7 with value: 0.8395051044479681 with parameters: {'min_samples_split': 11, 'max_depth': 244, 'n_estimators': 433}. Best is trial#0 with value: 0.8453904683037697.\n",
      "[I 2020-07-28 11:48:13,997] Finished trial#8 with value: 0.8349250009721547 with parameters: {'min_samples_split': 14, 'max_depth': 13, 'n_estimators': 418}. Best is trial#0 with value: 0.8453904683037697.\n",
      "[I 2020-07-28 11:48:17,654] Finished trial#9 with value: 0.8421736956309479 with parameters: {'min_samples_split': 7, 'max_depth': 58, 'n_estimators': 419}. Best is trial#0 with value: 0.8453904683037697.\n"
     ]
    }
   ],
   "source": [
    "study = optuna.create_study(direction = 'maximize')\n",
    "study.optimize(objective, n_trials=10)"
   ]
  },
  {
   "cell_type": "markdown",
   "metadata": {},
   "source": [
    "#### 最適モデルを得る"
   ]
  },
  {
   "cell_type": "code",
   "execution_count": 7,
   "metadata": {},
   "outputs": [],
   "source": [
    "best_clf = objective.clf(**study.best_params, **objective.fixed_params)"
   ]
  },
  {
   "cell_type": "markdown",
   "metadata": {},
   "source": [
    "#### スコアで性能評価"
   ]
  },
  {
   "cell_type": "code",
   "execution_count": 8,
   "metadata": {},
   "outputs": [
    {
     "name": "stdout",
     "output_type": "stream",
     "text": [
      "0.8655367230685075\n"
     ]
    }
   ],
   "source": [
    "best_clf.fit(X_train, y_train)\n",
    "y_pred_on_test = best_clf.predict(X_test)\n",
    "print(r2_score(y_test, y_pred_on_test))"
   ]
  }
 ],
 "metadata": {
  "kernelspec": {
   "display_name": "Python 3",
   "language": "python",
   "name": "python3"
  },
  "language_info": {
   "codemirror_mode": {
    "name": "ipython",
    "version": 3
   },
   "file_extension": ".py",
   "mimetype": "text/x-python",
   "name": "python",
   "nbconvert_exporter": "python",
   "pygments_lexer": "ipython3",
   "version": "3.7.8"
  }
 },
 "nbformat": 4,
 "nbformat_minor": 4
}
